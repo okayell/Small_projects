{
 "cells": [
  {
   "cell_type": "code",
   "execution_count": 2,
   "metadata": {},
   "outputs": [],
   "source": [
    "import pandas as pd \n",
    "import numpy as np\n",
    "import matplotlib.pyplot as plt\n",
    "from bokeh.plotting import figure, output_file, show\n",
    "\n",
    "#讀取json檔案\n",
    "df4 = pd.read_json(\"./data/線別客運量.json\")  \n",
    "#抓取所需欄位\n",
    "df4 = df4.drop([\"總計\",\"年度\",\"電子票證\",\"網路付款\",\"郵局及超商\"], axis=1)\n",
    "year = np.arange(2005,2016,1)\n",
    "lst = list(df4)     #columns\n",
    "l = len(df4)        #rows\n",
    "df4_1 = df4.drop([\"縱貫線\"],axis=1)    #扣除縱貫線\n",
    "lst2 = list(df4_1)"
   ]
  },
  {
   "cell_type": "code",
   "execution_count": 3,
   "metadata": {},
   "outputs": [],
   "source": [
    "def main():\n",
    "    while True:\n",
    "        try:\n",
    "            menu()\n",
    "            choice = input(\"請選擇欲查詢項目:\")\n",
    "            print()\n",
    "            if choice == 'A':\n",
    "                while True:\n",
    "                    try:\n",
    "                        menuA()\n",
    "                        choiceType = input(\"請選擇圖形:\")\n",
    "                        print()\n",
    "                        if choiceType == \"A1\":\n",
    "                            pltAllLines()\n",
    "                            plt.show()\n",
    "                            input(\"請按任意鍵返回選單\")\n",
    "                        elif choiceType == \"A2\":\n",
    "                            while True:\n",
    "                                menuYears()\n",
    "                                global choiceYear\n",
    "                                choiceYear = int(input(\"請選擇年份:\"))\n",
    "                                print()\n",
    "                                if choiceYear >= 1 and choiceYear <= l:\n",
    "                                    pltAllBars()\n",
    "                                    plt.show()\n",
    "                                    input(\"請按任意鍵返回選單\")\n",
    "                                elif choiceYear == 0:\n",
    "                                    break\n",
    "                                else:\n",
    "                                    print(\"請輸入1~{}查詢! 按任意鍵繼續..\".format(l))\n",
    "                                    input(\"\")\n",
    "                        \n",
    "                        elif choiceType == \"A3\":\n",
    "                            while True:\n",
    "                                menuYears()\n",
    "                                choiceYear = int(input(\"請選擇年份:\"))\n",
    "                                print()\n",
    "                                if choiceYear >= 1 and choiceYear <= l:\n",
    "                                    pltAllPies()\n",
    "                                    plt.show()\n",
    "                                    input(\"請按任意鍵返回選單\")\n",
    "                                elif choiceYear == 0:\n",
    "                                    break\n",
    "                                else:\n",
    "                                    print(\"請輸入1~{}查詢! 按任意鍵繼續..\".format(l))\n",
    "                                    input(\"\")\n",
    "                        elif choiceType == '0':\n",
    "                            break\n",
    "                        else:\n",
    "                            print(\"請輸入A1~A3查詢! 按任意鍵繼續..\")\n",
    "                            input(\"\")\n",
    "                    except ValueError:\n",
    "                        print(\"\\n請輸入正確的選項! 按任意鍵繼續..\")\n",
    "                        input(\"\")\n",
    "            elif choice == 'B':\n",
    "                while True:\n",
    "                    menuB()\n",
    "                    global choiceLine\n",
    "                    choiceLine = int(input(\"請選擇:\"))\n",
    "                    print()\n",
    "                    if choiceLine >= 1 and choiceLine <= len(lst):\n",
    "                        pltEachLine()\n",
    "                        plt.show()\n",
    "                        input(\"請按任意鍵返回選單\")\n",
    "                    elif choiceLine == 0:\n",
    "                        break\n",
    "                    else:\n",
    "                        print(\"請輸入1~{}查詢! 按任意鍵繼續..\".format(len(lst)))\n",
    "                        input(\"\")\n",
    "                        \n",
    "            elif choice == '0':\n",
    "                print(\"返回總目錄\\n\")\n",
    "                break\n",
    "            else:\n",
    "                print(\"請輸入A或B查詢! 按任意鍵繼續..\")\n",
    "                input(\"\")\n",
    "        except ValueError:\n",
    "            print(\"\\n請輸入正確的選項! 按任意鍵繼續..\")\n",
    "            input(\"\")"
   ]
  },
  {
   "cell_type": "code",
   "execution_count": 4,
   "metadata": {},
   "outputs": [],
   "source": [
    "def menu():\n",
    "    print(\"---台鐵各線歷年客運量資訊---\")\n",
    "    print(\"A.台鐵各線歷年客運量統計(2005~2015年)\")\n",
    "    print(\"B.台鐵個別線歷年客運量統計(2005~2015年)\")\n",
    "    print(\"0.返回總目錄\")"
   ]
  },
  {
   "cell_type": "code",
   "execution_count": 5,
   "metadata": {},
   "outputs": [],
   "source": [
    "def menuA():\n",
    "    print(\"---------------0.返回上一層------------------\")\n",
    "    print(\"A1.折線圖\")\n",
    "    print(\"A2.長條圖\")\n",
    "    print(\"A3.圓餅圖\") "
   ]
  },
  {
   "cell_type": "code",
   "execution_count": 6,
   "metadata": {},
   "outputs": [],
   "source": [
    "def menuYears():\n",
    "    print(\"---------------0.返回上一層------------------\")\n",
    "    for i in range(l):\n",
    "        print(\"{:2d}. {}年\".format(i+1,year[i]),end=\" \")\n",
    "        if (i+1)%4 == 0:\n",
    "            print()"
   ]
  },
  {
   "cell_type": "code",
   "execution_count": 7,
   "metadata": {},
   "outputs": [],
   "source": [
    "def pltAllLines():\n",
    "    plt.subplot(121)\n",
    "    p = figure(title=\"台鐵各線歷年客運量統計(2005~2015年)\",\n",
    "               x_axis_label=\"年\",y_axis_label=\"客運量(百萬)\")\n",
    "    lstColor = ['aqua','grey','darkgreen','blue','brown','chartreuse','chocolate','coral','darkblue','coral','fuchsia','red','green']\n",
    "    for i in range(len(lst)):\n",
    "        p.line(year,df4[lst[i]]/10000000,line_width=3,color=lstColor[i],legend=lst[i])\n",
    "        p.circle(year,df4[lst[i]]/10000000,size=2,color='black')\n",
    "    p.background_fill_color=\"azure\"\n",
    "    p.outline_line_width=8\n",
    "    p.outline_line_color=\"darkblue\"\n",
    "    show(p)\n",
    "    plt.subplot(122)\n",
    "    lstColor2 = ['aqua','azure','darkgreen','b','brown','chartreuse','chocolate','coral','darkblue','fuchsia','r','g']\n",
    "    for i, color in enumerate(lstColor2,start=0):\n",
    "        plt.plot(year,df4_1[lst2[i]]/10000000,lw=3,color=color)\n",
    "    plt.legend(lst2,shadow=True,fontsize='x-large',frameon=False) \n",
    "    plt.title(\"台鐵各線歷年客運量統計(扣除縱貫線)(2005~2015年)\",size=20)\n",
    "    plt.xlabel(\"年\",size=16)\n",
    "    plt.ylabel(\"客運量(百萬)\",size=16)\n",
    "    plt.xticks(fontsize=18)\n",
    "    plt.yticks(fontsize=18)"
   ]
  },
  {
   "cell_type": "code",
   "execution_count": 8,
   "metadata": {},
   "outputs": [],
   "source": [
    "def pltAllBars():\n",
    "    plt.figure(figsize=(20,12))\n",
    "    plt.subplot(121)\n",
    "    color1 = ['aqua','azure','darkgreen','b','brown','chartreuse','chocolate','coral','darkblue','c','fuchsia','r','g']\n",
    "    plt.barh(lst,df4.loc[choiceYear-1]/10000000,color=color1)\n",
    "    plt.xticks(fontsize=14), plt.yticks(fontsize=14)\n",
    "    plt.title(\"台鐵各線{}年客運量統計\".format(year[choiceYear-1]),size=20)\n",
    "    plt.xlabel(\"客運量(百萬)\",size=16)\n",
    "    plt.subplot(122)\n",
    "    color2 = ['aqua','azure','darkgreen','b','brown','chartreuse','chocolate','coral','darkblue','fuchsia','r','g']\n",
    "    plt.barh(df4_1.columns,df4_1.loc[choiceYear-1]/10000000,color=color2)\n",
    "    plt.xticks(fontsize=14), plt.yticks(fontsize=14)\n",
    "    plt.title(\"台鐵各線{}年客運量統計(不含縱貫線)\".format(year[choiceYear-1]),size=20)\n",
    "    plt.xlabel(\"客運量(百萬)\",size=16)"
   ]
  },
  {
   "cell_type": "code",
   "execution_count": 9,
   "metadata": {},
   "outputs": [],
   "source": [
    "def pltAllPies():\n",
    "    plt.figure(figsize=(16,16))\n",
    "    colors1 = ['aqua','azure','darkgreen','b','brown','chartreuse','chocolate','coral','darkblue','c','fuchsia','r','g']\n",
    "    explode = [0.01]*13\n",
    "    patch,ltext,ptext = plt.pie(df4.loc[choiceYear-1],labels=lst,\n",
    "                        autopct=\"%2.1f%%\",colors=colors1,explode=explode,pctdistance=0.65)\n",
    "    plt.title(\"台鐵各線{}年客運量統計\".format(year[choiceYear-1]),size=24)\n",
    "    for t in ltext:\n",
    "        t.set_size(18)\n",
    "    for p in ptext:\n",
    "        p.set_size(18)\n",
    "    plt.figure(figsize=(16,16))\n",
    "    colors2 = ['aqua','azure','darkgreen','b','brown','chartreuse','chocolate','coral','darkblue','fuchsia','r','g']\n",
    "    explode2 = [0.01]*12\n",
    "    patch2,ltext2,ptext2 = plt.pie(df4_1.loc[choiceYear-1],labels=df4_1.columns,\n",
    "                        autopct=\"%2.1f%%\",colors=colors2,explode=explode2,pctdistance=0.65)\n",
    "    for t in ltext2:\n",
    "        t.set_size(18)\n",
    "    for p in ptext2:\n",
    "        p.set_size(20)\n",
    "    plt.title(\"台鐵各線{}年客運量統計(不含縱貫線)\".format(year[choiceYear-1]),size=24)"
   ]
  },
  {
   "cell_type": "code",
   "execution_count": 10,
   "metadata": {},
   "outputs": [],
   "source": [
    "def menuB():\n",
    "    print(\"---------------0.返回上一層------------------\")\n",
    "    for i in range(len(lst)):\n",
    "        print(\"{:2d}.{}\".format(i+1,lst[i]),end=\" \")\n",
    "        if (i+1) % 5 == 0 :\n",
    "            print()"
   ]
  },
  {
   "cell_type": "code",
   "execution_count": 11,
   "metadata": {},
   "outputs": [],
   "source": [
    "def pltEachLine():\n",
    "    plt.figure(figsize=(18,18))\n",
    "    colors = ['darkred','darkgreen','b','brown','chartreuse','chocolate','coral','darkblue','c','g','purple']\n",
    "    plt.bar(year,df4[lst[choiceLine-1]]/1000000,color=colors)\n",
    "    plt.title(\"{}歷年客運量統計(2005~2015年)\".format(lst[choiceLine-1]),size=22)\n",
    "    plt.xlabel(\"年\",size=18)\n",
    "    plt.ylabel(\"客運量(百萬)\",size=18)\n",
    "    plt.xticks(fontsize=18)\n",
    "    plt.yticks(fontsize=18)"
   ]
  },
  {
   "cell_type": "code",
   "execution_count": 12,
   "metadata": {},
   "outputs": [
    {
     "name": "stdout",
     "output_type": "stream",
     "text": [
      "---台鐵各線歷年客運量資訊---\n",
      "A.台鐵各線歷年客運量統計(2005~2015年)\n",
      "B.台鐵個別線歷年客運量統計(2005~2015年)\n",
      "0.返回總目錄\n",
      "請選擇欲查詢項目:B\n",
      "\n",
      "---------------0.返回上一層------------------\n",
      " 1.內灣線  2.六家線  3.北迴線  4.南迴線  5.宜蘭線 \n",
      " 6.屏東線  7.平溪線  8.沙崙線  9.深澳線 10.縱貫線 \n",
      "11.臺中線 12.臺東線 13.集集線 請選擇:1\n",
      "\n"
     ]
    },
    {
     "data": {
      "image/png": "[encoded data removed]",
      "text/plain": [
       "<Figure size 1296x1296 with 1 Axes>"
      ]
     },
     "metadata": {
      "needs_background": "light"
     },
     "output_type": "display_data"
    },
    {
     "name": "stdout",
     "output_type": "stream",
     "text": [
      "請按任意鍵返回選單0\n",
      "---------------0.返回上一層------------------\n",
      " 1.內灣線  2.六家線  3.北迴線  4.南迴線  5.宜蘭線 \n",
      " 6.屏東線  7.平溪線  8.沙崙線  9.深澳線 10.縱貫線 \n",
      "11.臺中線 12.臺東線 13.集集線 請選擇:0\n",
      "\n",
      "---台鐵各線歷年客運量資訊---\n",
      "A.台鐵各線歷年客運量統計(2005~2015年)\n",
      "B.台鐵個別線歷年客運量統計(2005~2015年)\n",
      "0.返回總目錄\n",
      "請選擇欲查詢項目:0\n",
      "\n",
      "返回總目錄\n",
      "\n"
     ]
    }
   ],
   "source": [
    "main()"
   ]
  },
  {
   "cell_type": "code",
   "execution_count": null,
   "metadata": {},
   "outputs": [],
   "source": []
  }
 ],
 "metadata": {
  "kernelspec": {
   "display_name": "Python 3",
   "language": "python",
   "name": "python3"
  },
  "language_info": {
   "codemirror_mode": {
    "name": "ipython",
    "version": 3
   },
   "file_extension": ".py",
   "mimetype": "text/x-python",
   "name": "python",
   "nbconvert_exporter": "python",
   "pygments_lexer": "ipython3",
   "version": "3.7.1"
  }
 },
 "nbformat": 4,
 "nbformat_minor": 2
}
